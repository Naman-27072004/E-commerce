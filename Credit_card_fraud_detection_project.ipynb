{
  "nbformat": 4,
  "nbformat_minor": 0,
  "metadata": {
    "colab": {
      "provenance": [],
      "mount_file_id": "1Y9slQSnHT9jZ6jPE_NsfAf_C1W_FnX6F",
      "authorship_tag": "ABX9TyNNIE2xEDavxM0aTC7Nu6rm",
      "include_colab_link": true
    },
    "kernelspec": {
      "name": "python3",
      "display_name": "Python 3"
    },
    "language_info": {
      "name": "python"
    }
  },
  "cells": [
    {
      "cell_type": "markdown",
      "metadata": {
        "id": "view-in-github",
        "colab_type": "text"
      },
      "source": [
        "<a href=\"https://colab.research.google.com/github/Naman-27072004/E-commerce/blob/main/Credit_card_fraud_detection_project.ipynb\" target=\"_parent\"><img src=\"https://colab.research.google.com/assets/colab-badge.svg\" alt=\"Open In Colab\"/></a>"
      ]
    },
    {
      "cell_type": "code",
      "execution_count": null,
      "metadata": {
        "colab": {
          "base_uri": "https://localhost:8080/"
        },
        "id": "yvGVI9_VIvGp",
        "outputId": "c2998058-5b5f-4ed7-a9a6-51c3999a7442"
      },
      "outputs": [
        {
          "output_type": "stream",
          "name": "stdout",
          "text": [
            "Accuracy on Training data :  0.9333333333333333\n",
            "Accuracy on Test data :  0.9611111111111111\n"
          ]
        }
      ],
      "source": [
        "# Import necessary libraries\n",
        "import numpy as np  # For numerical operations\n",
        "import pandas as pd  # For data manipulation and analysis\n",
        "from sklearn.model_selection import train_test_split  # For splitting data into training and testing sets\n",
        "from sklearn.linear_model import LogisticRegression  # For logistic regression model\n",
        "from sklearn.metrics import accuracy_score  # For evaluating model accuracy\n",
        "import warnings  # For handling warnings\n",
        "\n",
        "# Suppress DtypeWarning to avoid warnings about mixed data types\n",
        "warnings.filterwarnings(\"ignore\", category=pd.errors.DtypeWarning)\n",
        "\n",
        "# Load the credit card fraud dataset, skipping problematic lines\n",
        "df = pd.read_csv('/content/creditcard.csv', on_bad_lines='skip')\n",
        "\n",
        "# Data preprocessing:\n",
        "df.dropna(inplace=True)  # Remove rows with missing values\n",
        "df.drop_duplicates(inplace=True)  # Remove duplicate rows\n",
        "\n",
        "# Separate legitimate and fraudulent transactions\n",
        "legit = df[df.Class == 0]  # Transactions labeled as legitimate (Class 0)\n",
        "fraud = df[df.Class == 1]  # Transactions labeled as fraud (Class 1)\n",
        "\n",
        "# Create balanced samples for training (450 each)\n",
        "legit_sample = legit.sample(n=450)  # Randomly sample 450 legitimate transactions\n",
        "fraud_sample = fraud.sample(n=450)  # Randomly sample 450 fraudulent transactions\n",
        "\n",
        "# Combine the samples to create the training dataset\n",
        "df = pd.concat([legit_sample, fraud_sample], axis=0)\n",
        "\n",
        "# Split data into features (X) and target (Y)\n",
        "X = df.drop(columns='Class', axis=1)  # Features (all columns except 'Class')\n",
        "Y = df['Class']  # Target variable (Class: 0 or 1)\n",
        "\n",
        "# Split data into training and testing sets\n",
        "X_train, X_test, Y_train, Y_test = train_test_split(X, Y, test_size=0.2, stratify=Y, random_state=2)\n",
        "# test_size=0.2: 20% of data for testing\n",
        "# stratify=Y: Ensures similar class distribution in train and test sets\n",
        "# random_state=2: For reproducibility\n",
        "\n",
        "# Create and train the logistic regression model\n",
        "# Increase max_iter to address potential ConvergenceWarning\n",
        "model = LogisticRegression(max_iter=10000)\n",
        "model.fit(X_train, Y_train)  # Train the model on the training data\n",
        "\n",
        "# Make predictions on training and testing data\n",
        "X_train_prediction = model.predict(X_train)\n",
        "X_test_prediction = model.predict(X_test)\n",
        "\n",
        "# Evaluate model performance\n",
        "training_data_accuracy = accuracy_score(X_train_prediction, Y_train)  # Calculate training accuracy\n",
        "test_data_accuracy = accuracy_score(X_test_prediction, Y_test)  # Calculate testing accuracy\n",
        "\n",
        "# Print the accuracy scores\n",
        "print('Accuracy on Training data : ', training_data_accuracy)\n",
        "print('Accuracy on Test data : ', test_data_accuracy)"
      ]
    }
  ]
}